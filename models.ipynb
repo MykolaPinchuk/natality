{
 "cells": [
  {
   "cell_type": "markdown",
   "id": "b79cac7b-b44a-4623-9a88-5cfc039127b3",
   "metadata": {},
   "source": [
    "### This Dev notebook builds simple OLS model to predict baby weight\n",
    "\n",
    "### Outline:\n",
    "1. Ingest data using BigQuery API.\n",
    "2. Clean the data.\n",
    "3. Build model."
   ]
  },
  {
   "cell_type": "code",
   "execution_count": 1,
   "id": "4b3dc9f8-2dfb-45ae-af08-aaa83b051eed",
   "metadata": {},
   "outputs": [],
   "source": [
    "project_name = 'My First Project'\n",
    "project_id = 'valid-heuristic-369117'\n",
    "regionn = 'us-west1'"
   ]
  },
  {
   "cell_type": "code",
   "execution_count": 2,
   "id": "d1fe9ef4-1add-4a74-b94a-cdad0456211e",
   "metadata": {},
   "outputs": [],
   "source": [
    "import pandas as pd\n",
    "import xgboost as xgb\n",
    "import numpy as np\n",
    "import time\n",
    "import pickle\n",
    "import os\n",
    "import joblib\n",
    "\n",
    "from sklearn.linear_model import LinearRegression\n",
    "from sklearn.model_selection import train_test_split\n",
    "from sklearn.metrics import mean_squared_error\n",
    "from sklearn.utils import shuffle\n",
    "from google.cloud import bigquery, storage\n",
    "\n",
    "# xgb.__version__\n",
    "os.chdir('/home/jupyter/project_repos/pg_natality/pg_natality')"
   ]
  },
  {
   "cell_type": "code",
   "execution_count": 3,
   "id": "8aa2455b-f13e-486e-b050-79b1b37e85d6",
   "metadata": {},
   "outputs": [
    {
     "data": {
      "text/plain": [
       "(10000, 5)"
      ]
     },
     "metadata": {},
     "output_type": "display_data"
    },
    {
     "data": {
      "text/html": [
       "<div>\n",
       "<style scoped>\n",
       "    .dataframe tbody tr th:only-of-type {\n",
       "        vertical-align: middle;\n",
       "    }\n",
       "\n",
       "    .dataframe tbody tr th {\n",
       "        vertical-align: top;\n",
       "    }\n",
       "\n",
       "    .dataframe thead th {\n",
       "        text-align: right;\n",
       "    }\n",
       "</style>\n",
       "<table border=\"1\" class=\"dataframe\">\n",
       "  <thead>\n",
       "    <tr style=\"text-align: right;\">\n",
       "      <th></th>\n",
       "      <th>weight_pounds</th>\n",
       "      <th>is_male</th>\n",
       "      <th>mother_age</th>\n",
       "      <th>plurality</th>\n",
       "      <th>gestation_weeks</th>\n",
       "    </tr>\n",
       "  </thead>\n",
       "  <tbody>\n",
       "    <tr>\n",
       "      <th>0</th>\n",
       "      <td>8.348906</td>\n",
       "      <td>True</td>\n",
       "      <td>22</td>\n",
       "      <td>1</td>\n",
       "      <td>42.0</td>\n",
       "    </tr>\n",
       "    <tr>\n",
       "      <th>1</th>\n",
       "      <td>6.481591</td>\n",
       "      <td>False</td>\n",
       "      <td>20</td>\n",
       "      <td>1</td>\n",
       "      <td>41.0</td>\n",
       "    </tr>\n",
       "    <tr>\n",
       "      <th>2</th>\n",
       "      <td>9.792934</td>\n",
       "      <td>True</td>\n",
       "      <td>34</td>\n",
       "      <td>1</td>\n",
       "      <td>42.0</td>\n",
       "    </tr>\n",
       "    <tr>\n",
       "      <th>3</th>\n",
       "      <td>7.687519</td>\n",
       "      <td>True</td>\n",
       "      <td>28</td>\n",
       "      <td>1</td>\n",
       "      <td>39.0</td>\n",
       "    </tr>\n",
       "    <tr>\n",
       "      <th>4</th>\n",
       "      <td>7.687519</td>\n",
       "      <td>False</td>\n",
       "      <td>33</td>\n",
       "      <td>1</td>\n",
       "      <td>36.0</td>\n",
       "    </tr>\n",
       "  </tbody>\n",
       "</table>\n",
       "</div>"
      ],
      "text/plain": [
       "   weight_pounds  is_male  mother_age  plurality  gestation_weeks\n",
       "0       8.348906     True          22          1             42.0\n",
       "1       6.481591    False          20          1             41.0\n",
       "2       9.792934     True          34          1             42.0\n",
       "3       7.687519     True          28          1             39.0\n",
       "4       7.687519    False          33          1             36.0"
      ]
     },
     "metadata": {},
     "output_type": "display_data"
    }
   ],
   "source": [
    "time0 = time.time()\n",
    "\n",
    "query=\"\"\"\n",
    "SELECT\n",
    "  weight_pounds,\n",
    "  is_male,\n",
    "  mother_age,\n",
    "  plurality,\n",
    "  gestation_weeks\n",
    "FROM\n",
    "  publicdata.samples.natality\n",
    "WHERE year > 2000\n",
    "LIMIT 10000\n",
    "\"\"\"\n",
    "df = bigquery.Client().query(query).to_dataframe()\n",
    "display(df.shape, df.head())"
   ]
  },
  {
   "cell_type": "code",
   "execution_count": 4,
   "id": "5671c438-41e2-4240-b348-dc67472ee53b",
   "metadata": {},
   "outputs": [
    {
     "data": {
      "text/html": [
       "<div>\n",
       "<style scoped>\n",
       "    .dataframe tbody tr th:only-of-type {\n",
       "        vertical-align: middle;\n",
       "    }\n",
       "\n",
       "    .dataframe tbody tr th {\n",
       "        vertical-align: top;\n",
       "    }\n",
       "\n",
       "    .dataframe thead th {\n",
       "        text-align: right;\n",
       "    }\n",
       "</style>\n",
       "<table border=\"1\" class=\"dataframe\">\n",
       "  <thead>\n",
       "    <tr style=\"text-align: right;\">\n",
       "      <th></th>\n",
       "      <th>weight_pounds</th>\n",
       "      <th>mother_age</th>\n",
       "      <th>plurality</th>\n",
       "      <th>gestation_weeks</th>\n",
       "    </tr>\n",
       "  </thead>\n",
       "  <tbody>\n",
       "    <tr>\n",
       "      <th>count</th>\n",
       "      <td>9992.000000</td>\n",
       "      <td>10000.000000</td>\n",
       "      <td>10000.000000</td>\n",
       "      <td>9916.000000</td>\n",
       "    </tr>\n",
       "    <tr>\n",
       "      <th>mean</th>\n",
       "      <td>7.225465</td>\n",
       "      <td>27.424500</td>\n",
       "      <td>1.032100</td>\n",
       "      <td>38.581989</td>\n",
       "    </tr>\n",
       "    <tr>\n",
       "      <th>std</th>\n",
       "      <td>1.325989</td>\n",
       "      <td>6.238541</td>\n",
       "      <td>0.192024</td>\n",
       "      <td>2.518561</td>\n",
       "    </tr>\n",
       "    <tr>\n",
       "      <th>min</th>\n",
       "      <td>0.500449</td>\n",
       "      <td>12.000000</td>\n",
       "      <td>1.000000</td>\n",
       "      <td>17.000000</td>\n",
       "    </tr>\n",
       "    <tr>\n",
       "      <th>25%</th>\n",
       "      <td>6.554343</td>\n",
       "      <td>22.000000</td>\n",
       "      <td>1.000000</td>\n",
       "      <td>38.000000</td>\n",
       "    </tr>\n",
       "    <tr>\n",
       "      <th>50%</th>\n",
       "      <td>7.312733</td>\n",
       "      <td>27.000000</td>\n",
       "      <td>1.000000</td>\n",
       "      <td>39.000000</td>\n",
       "    </tr>\n",
       "    <tr>\n",
       "      <th>75%</th>\n",
       "      <td>8.062305</td>\n",
       "      <td>32.000000</td>\n",
       "      <td>1.000000</td>\n",
       "      <td>40.000000</td>\n",
       "    </tr>\n",
       "    <tr>\n",
       "      <th>max</th>\n",
       "      <td>13.944238</td>\n",
       "      <td>50.000000</td>\n",
       "      <td>5.000000</td>\n",
       "      <td>47.000000</td>\n",
       "    </tr>\n",
       "  </tbody>\n",
       "</table>\n",
       "</div>"
      ],
      "text/plain": [
       "       weight_pounds    mother_age     plurality  gestation_weeks\n",
       "count    9992.000000  10000.000000  10000.000000      9916.000000\n",
       "mean        7.225465     27.424500      1.032100        38.581989\n",
       "std         1.325989      6.238541      0.192024         2.518561\n",
       "min         0.500449     12.000000      1.000000        17.000000\n",
       "25%         6.554343     22.000000      1.000000        38.000000\n",
       "50%         7.312733     27.000000      1.000000        39.000000\n",
       "75%         8.062305     32.000000      1.000000        40.000000\n",
       "max        13.944238     50.000000      5.000000        47.000000"
      ]
     },
     "metadata": {},
     "output_type": "display_data"
    },
    {
     "data": {
      "text/plain": [
       "True     5100\n",
       "False    4900\n",
       "Name: is_male, dtype: int64"
      ]
     },
     "metadata": {},
     "output_type": "display_data"
    }
   ],
   "source": [
    "display(df.describe())\n",
    "display(df.is_male.value_counts())"
   ]
  },
  {
   "cell_type": "code",
   "execution_count": 5,
   "id": "533f22de-4611-4856-bd14-614c6ae3715e",
   "metadata": {},
   "outputs": [
    {
     "data": {
      "text/plain": [
       "(7431, 4)"
      ]
     },
     "metadata": {},
     "output_type": "display_data"
    },
    {
     "data": {
      "text/html": [
       "<div>\n",
       "<style scoped>\n",
       "    .dataframe tbody tr th:only-of-type {\n",
       "        vertical-align: middle;\n",
       "    }\n",
       "\n",
       "    .dataframe tbody tr th {\n",
       "        vertical-align: top;\n",
       "    }\n",
       "\n",
       "    .dataframe thead th {\n",
       "        text-align: right;\n",
       "    }\n",
       "</style>\n",
       "<table border=\"1\" class=\"dataframe\">\n",
       "  <thead>\n",
       "    <tr style=\"text-align: right;\">\n",
       "      <th></th>\n",
       "      <th>is_male</th>\n",
       "      <th>mother_age</th>\n",
       "      <th>plurality</th>\n",
       "      <th>gestation_weeks</th>\n",
       "    </tr>\n",
       "  </thead>\n",
       "  <tbody>\n",
       "    <tr>\n",
       "      <th>4504</th>\n",
       "      <td>1</td>\n",
       "      <td>21</td>\n",
       "      <td>1</td>\n",
       "      <td>38.0</td>\n",
       "    </tr>\n",
       "    <tr>\n",
       "      <th>2821</th>\n",
       "      <td>1</td>\n",
       "      <td>34</td>\n",
       "      <td>1</td>\n",
       "      <td>41.0</td>\n",
       "    </tr>\n",
       "    <tr>\n",
       "      <th>7196</th>\n",
       "      <td>0</td>\n",
       "      <td>32</td>\n",
       "      <td>1</td>\n",
       "      <td>40.0</td>\n",
       "    </tr>\n",
       "    <tr>\n",
       "      <th>7926</th>\n",
       "      <td>0</td>\n",
       "      <td>29</td>\n",
       "      <td>1</td>\n",
       "      <td>39.0</td>\n",
       "    </tr>\n",
       "    <tr>\n",
       "      <th>1046</th>\n",
       "      <td>0</td>\n",
       "      <td>18</td>\n",
       "      <td>1</td>\n",
       "      <td>41.0</td>\n",
       "    </tr>\n",
       "  </tbody>\n",
       "</table>\n",
       "</div>"
      ],
      "text/plain": [
       "      is_male  mother_age  plurality  gestation_weeks\n",
       "4504        1          21          1             38.0\n",
       "2821        1          34          1             41.0\n",
       "7196        0          32          1             40.0\n",
       "7926        0          29          1             39.0\n",
       "1046        0          18          1             41.0"
      ]
     },
     "metadata": {},
     "output_type": "display_data"
    },
    {
     "data": {
      "text/plain": [
       "(2477, 4)"
      ]
     },
     "metadata": {},
     "output_type": "display_data"
    },
    {
     "data": {
      "text/plain": [
       "(7431,)"
      ]
     },
     "metadata": {},
     "output_type": "display_data"
    }
   ],
   "source": [
    "df['is_male'] = df['is_male'].astype(int)\n",
    "df = df.dropna()\n",
    "df = shuffle(df, random_state=2)\n",
    "\n",
    "labels = df['weight_pounds']\n",
    "data = df.drop(columns=['weight_pounds'])\n",
    "X,y = data,labels\n",
    "X_train, X_test, y_train, y_test = train_test_split(X, y)\n",
    "\n",
    "display(X_train.shape, X_train.head(), X_test.shape, y_train.shape)"
   ]
  },
  {
   "cell_type": "code",
   "execution_count": 6,
   "id": "36b3f76a-8cce-4349-859f-66337eb070cb",
   "metadata": {},
   "outputs": [
    {
     "name": "stdout",
     "output_type": "stream",
     "text": [
      "0.02408909797668457\n"
     ]
    }
   ],
   "source": [
    "time1 = time.time()\n",
    "lr = LinearRegression()\n",
    "\n",
    "lr.fit(X_train, y_train)\n",
    "model_copied = lr\n",
    "\n",
    "print(time.time()-time1)"
   ]
  },
  {
   "cell_type": "code",
   "execution_count": 7,
   "id": "680f191e-619d-48bc-ad1e-70413f585860",
   "metadata": {},
   "outputs": [
    {
     "name": "stdout",
     "output_type": "stream",
     "text": [
      "Predicted weight:  6.450807835011462\n",
      "Actual weight:  6.0009827716399995\n",
      "\n",
      "Predicted weight:  7.486949770282759\n",
      "Actual weight:  8.1681268071\n",
      "\n",
      "Predicted weight:  5.722665230881027\n",
      "Actual weight:  5.3131405142\n",
      "\n",
      "Predicted weight:  7.63261928202005\n",
      "Actual weight:  7.698542189039999\n",
      "\n",
      "Predicted weight:  6.361568083658476\n",
      "Actual weight:  6.5807985207\n",
      "\n",
      "train rmse:  1.0667677306568524\n",
      "test rmse:  1.065659582005254\n"
     ]
    }
   ],
   "source": [
    "y_pred = lr.predict(X_test)\n",
    "\n",
    "for i in range(5):\n",
    "    print('Predicted weight: ', y_pred[i])\n",
    "    print('Actual weight: ', y_test.iloc[i])\n",
    "    print()\n",
    "    \n",
    "print('train rmse: ', np.sqrt(mean_squared_error(y_train, lr.predict(X_train))))\n",
    "print('test rmse: ', np.sqrt(mean_squared_error(y_test, lr.predict(X_test))))"
   ]
  },
  {
   "cell_type": "code",
   "execution_count": 8,
   "id": "0c5364af-a944-4e58-8b99-d5ff47096844",
   "metadata": {},
   "outputs": [
    {
     "data": {
      "text/plain": [
       "'/home/jupyter/project_repos/pg_natality/pg_natality'"
      ]
     },
     "execution_count": 8,
     "metadata": {},
     "output_type": "execute_result"
    }
   ],
   "source": [
    "os.getcwd()"
   ]
  },
  {
   "cell_type": "code",
   "execution_count": 9,
   "id": "54183651-50eb-4bd7-ad96-484b083ff0b9",
   "metadata": {},
   "outputs": [],
   "source": [
    "artifact_filename_lm = 'lr_model.pkl'\n",
    "joblib.dump(lr, artifact_filename_lm)\n",
    "\n",
    "os.chdir('/home/jupyter/project_repos/pg_natality/pg_natality/natality-app')\n",
    "joblib.dump(lr, artifact_filename_lm)\n",
    "\n",
    "os.chdir('/home/jupyter/project_repos/pg_natality/pg_natality')\n",
    "\n",
    "# artifact_filename_xgb = 'xgb_model.json'\n",
    "# xgbm.save_model(artifact_filename_xgb)"
   ]
  },
  {
   "cell_type": "code",
   "execution_count": 10,
   "id": "9b783a1b-89fe-416f-ab10-6ccb7c9a45f4",
   "metadata": {},
   "outputs": [],
   "source": [
    "model_bucket = 'gs://pmykola-projectsgcp-artifacts/natality'\n",
    "storage_path = os.path.join(model_bucket, artifact_filename_lm)\n",
    "blob = storage.blob.Blob.from_string(storage_path, client=storage.Client(project=project_id))\n",
    "blob.upload_from_filename(os.getcwd()+'/'+artifact_filename_lm)"
   ]
  },
  {
   "cell_type": "code",
   "execution_count": null,
   "id": "063d90c4-f841-4ba0-8112-c6fbfaf208aa",
   "metadata": {},
   "outputs": [],
   "source": []
  },
  {
   "cell_type": "code",
   "execution_count": 11,
   "id": "200d24fb-eb3d-4f42-9e18-b3596c5e0255",
   "metadata": {},
   "outputs": [
    {
     "name": "stdout",
     "output_type": "stream",
     "text": [
      "lm [6.45080784]\n"
     ]
    },
    {
     "name": "stderr",
     "output_type": "stream",
     "text": [
      "/opt/conda/lib/python3.7/site-packages/sklearn/base.py:451: UserWarning: X does not have valid feature names, but LinearRegression was fitted with feature names\n",
      "  \"X does not have valid feature names, but\"\n"
     ]
    }
   ],
   "source": [
    "file = open(artifact_filename_lm, \"rb\")\n",
    "trained_model = joblib.load(file)\n",
    "prediction = trained_model.predict([list(X_test.iloc[0,:])])\n",
    "print('lm', prediction)"
   ]
  }
 ],
 "metadata": {
  "environment": {
   "kernel": "python3",
   "name": "common-cpu.m100",
   "type": "gcloud",
   "uri": "gcr.io/deeplearning-platform-release/base-cpu:m100"
  },
  "kernelspec": {
   "display_name": "Python 3",
   "language": "python",
   "name": "python3"
  },
  "language_info": {
   "codemirror_mode": {
    "name": "ipython",
    "version": 3
   },
   "file_extension": ".py",
   "mimetype": "text/x-python",
   "name": "python",
   "nbconvert_exporter": "python",
   "pygments_lexer": "ipython3",
   "version": "3.7.12"
  }
 },
 "nbformat": 4,
 "nbformat_minor": 5
}
